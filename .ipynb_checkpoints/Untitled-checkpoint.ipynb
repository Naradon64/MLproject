{
 "cells": [
  {
   "cell_type": "code",
   "execution_count": 1,
   "id": "2e3c6c48",
   "metadata": {
    "scrolled": true
   },
   "outputs": [],
   "source": [
    "import pandas as pd\n",
    "import numpy as np\n",
    "\n",
    "pd.set_option('display.max_columns', None)\n",
    "\n",
    "train = pd.read_csv(\"train.csv\", low_memory=False)\n",
    "test = pd.read_csv(\"test.csv\", low_memory=False)"
   ]
  },
  {
   "cell_type": "markdown",
   "id": "b5687b47",
   "metadata": {},
   "source": []
  },
  {
   "cell_type": "markdown",
   "id": "23ebeff4",
   "metadata": {},
   "source": [
    "# Data Cleaning\n",
    "\n",
    "## Identify Issues\n",
    "\n",
    "1. **Not Useful Columns:**\n",
    "   - `ID`, `Name`, and `SSN` are not useful for the analysis.\n",
    "\n",
    "2. **Numeric Columns Incorrectly Typed as Categorical:**\n",
    "   - `Age`, `Annual_Income`, `Num_of_Loan`, `Num_of_Delayed_Payment`, `Changed_Credit_Limit`, `Amount_invested_monthly`, `Outstanding_Debt`, `Credit_Mix`, `Monthly_Balance` are numerical but show as categorical. These need to be fixed.\n",
    "\n",
    "3. **Values \"__\" in Columns:**\n",
    "   - `Occupation` and `CreditMix` have values \"__\" that need to be addressed.\n",
    "\n",
    "4. **Outliers:**\n",
    "   - The data contains outliers that require investigation.\n",
    "\n",
    "5. **Num_Credit_Card Zeros:**\n",
    "   - `Num_Credit_Card` has zeros that need attention.\n",
    "\n",
    "6. **Type_of_Loan Restructuring:**\n",
    "   - `Type_of_Loan` needs to be rewritten as 8 columns.\n",
    "\n",
    "7. **Negative Values in Num_Bank_Accounts:**\n",
    "   - `Num_Bank_Accounts` contains negative values that need to be handled.\n",
    "\n",
    "8. **Feature Engineering:**\n",
    "   - `Credit_History_Age`, `Payment_of_Min_Amount`, `Payment_Behaviour`, `Credit_Mix` need feature engineering.\n",
    "\n",
    "9. **Imbalanced Target Column:**\n",
    "   - The target column is imbalanced and may require techniques for handling class imbalance.\n",
    "\n",
    "10. **Missing Data:**\n",
    "    - There is a significant amount of missing data that needs to be addressed.\n",
    "\n",
    "---\n",
    "\n",
    "*Note: The specific actions for each issue may involve further analysis, cleaning, or preprocessing steps.*\n"
   ]
  },
  {
   "cell_type": "markdown",
   "id": "9e2ee1ac",
   "metadata": {},
   "source": [
    "1. **Not Useful Columns:**"
   ]
  },
  {
   "cell_type": "code",
   "execution_count": 2,
   "id": "d452d44d",
   "metadata": {},
   "outputs": [],
   "source": [
    "del train['ID'] # Identification \n",
    "del train['Name'] # Name of client \n",
    "del train['SSN'] # SSN (social security number of a person)"
   ]
  },
  {
   "cell_type": "markdown",
   "id": "48fa0f7b",
   "metadata": {},
   "source": [
    "**Fix Numerical Columns**\n",
    "- replace _\n",
    "- convert into float"
   ]
  },
  {
   "cell_type": "code",
   "execution_count": 3,
   "id": "9b5efbcf",
   "metadata": {},
   "outputs": [],
   "source": [
    "N_to_fix = ['Age', 'Annual_Income', 'Num_of_Loan', 'Num_of_Delayed_Payment', \n",
    "            'Changed_Credit_Limit', 'Amount_invested_monthly', 'Outstanding_Debt' , 'Monthly_Balance']"
   ]
  },
  {
   "cell_type": "code",
   "execution_count": 4,
   "id": "534b37b8",
   "metadata": {},
   "outputs": [],
   "source": [
    "def fix_nums(num):\n",
    "    try : \n",
    "        return float(num.replace(\"_\",\"\"))\n",
    "    except :\n",
    "        return np.nan"
   ]
  },
  {
   "cell_type": "code",
   "execution_count": 5,
   "id": "6a4ac207",
   "metadata": {},
   "outputs": [],
   "source": [
    "for col in N_to_fix :\n",
    "    train[col] = train[col].apply(fix_nums)"
   ]
  },
  {
   "cell_type": "markdown",
   "id": "49e8b3e8",
   "metadata": {},
   "source": [
    "**Type_of_Loan**"
   ]
  },
  {
   "cell_type": "code",
   "execution_count": 6,
   "id": "563b0376",
   "metadata": {},
   "outputs": [],
   "source": [
    "## Rebuild Type of loans Columns \n",
    "for i in train['Type_of_Loan'].value_counts().head(9).index[1:] : \n",
    "    train[i] = train['Type_of_Loan'].str.contains(i)\n",
    "\n",
    "del train['Type_of_Loan']"
   ]
  },
  {
   "cell_type": "markdown",
   "id": "2f70f840",
   "metadata": {},
   "source": [
    "**Num_Bank_Accounts**"
   ]
  },
  {
   "cell_type": "code",
   "execution_count": 7,
   "id": "d73eeb08",
   "metadata": {},
   "outputs": [],
   "source": [
    "train['Num_Bank_Accounts'] = train['Num_Bank_Accounts'].apply(lambda x :abs (x))"
   ]
  },
  {
   "cell_type": "markdown",
   "id": "9d667939",
   "metadata": {},
   "source": [
    "**Num_Credit_Card**"
   ]
  },
  {
   "cell_type": "code",
   "execution_count": 8,
   "id": "cce964cd",
   "metadata": {},
   "outputs": [],
   "source": [
    "train['Num_Credit_Card'].replace(0,1,inplace=True)"
   ]
  },
  {
   "cell_type": "markdown",
   "id": "a3ff390b",
   "metadata": {},
   "source": [
    "**เหลือ 8-10**"
   ]
  },
  {
   "cell_type": "markdown",
   "id": "5c4667a5",
   "metadata": {},
   "source": [
    "ข้อมูลมีการ/น่าจะมีการกำหนดเฉลย (labeling) ด้วยวิธีใด เพราะเหตุใด มีปัญหาหรือไม่ อย่างไร แก้ไขได้อย่างไร\n"
   ]
  },
  {
   "cell_type": "code",
   "execution_count": 9,
   "id": "0856c98a",
   "metadata": {},
   "outputs": [
    {
     "data": {
      "text/plain": [
       "array(['Good', 'Standard', 'Poor'], dtype=object)"
      ]
     },
     "execution_count": 9,
     "metadata": {},
     "output_type": "execute_result"
    }
   ],
   "source": [
    "train['Credit_Score'].unique()"
   ]
  },
  {
   "cell_type": "markdown",
   "id": "7d079423",
   "metadata": {},
   "source": []
  },
  {
   "cell_type": "code",
   "execution_count": 15,
   "id": "1aaa71c3",
   "metadata": {},
   "outputs": [
    {
     "data": {
      "text/plain": [
       "Index(['Customer_ID', 'Month', 'Age', 'Occupation', 'Annual_Income',\n",
       "       'Monthly_Inhand_Salary', 'Num_Bank_Accounts', 'Num_Credit_Card',\n",
       "       'Interest_Rate', 'Num_of_Loan', 'Type_of_Loan', 'Delay_from_due_date',\n",
       "       'Num_of_Delayed_Payment', 'Changed_Credit_Limit',\n",
       "       'Num_Credit_Inquiries', 'Credit_Mix', 'Outstanding_Debt',\n",
       "       'Credit_Utilization_Ratio', 'Credit_History_Age',\n",
       "       'Payment_of_Min_Amount', 'Total_EMI_per_month',\n",
       "       'Amount_invested_monthly', 'Payment_Behaviour', 'Monthly_Balance'],\n",
       "      dtype='object')"
      ]
     },
     "execution_count": 15,
     "metadata": {},
     "output_type": "execute_result"
    }
   ],
   "source": []
  },
  {
   "cell_type": "code",
   "execution_count": 16,
   "id": "2b535122",
   "metadata": {},
   "outputs": [
    {
     "data": {
      "text/plain": [
       "Index(['Customer_ID', 'Month', 'Age', 'Occupation', 'Annual_Income',\n",
       "       'Monthly_Inhand_Salary', 'Num_Bank_Accounts', 'Num_Credit_Card',\n",
       "       'Interest_Rate', 'Num_of_Loan', 'Delay_from_due_date',\n",
       "       'Num_of_Delayed_Payment', 'Changed_Credit_Limit',\n",
       "       'Num_Credit_Inquiries', 'Credit_Mix', 'Outstanding_Debt',\n",
       "       'Credit_Utilization_Ratio', 'Credit_History_Age',\n",
       "       'Payment_of_Min_Amount', 'Total_EMI_per_month',\n",
       "       'Amount_invested_monthly', 'Payment_Behaviour', 'Monthly_Balance',\n",
       "       'Credit_Score', 'Credit-Builder Loan', 'Personal Loan',\n",
       "       'Debt Consolidation Loan', 'Student Loan', 'Payday Loan',\n",
       "       'Mortgage Loan', 'Auto Loan', 'Home Equity Loan'],\n",
       "      dtype='object')"
      ]
     },
     "execution_count": 16,
     "metadata": {},
     "output_type": "execute_result"
    }
   ],
   "source": [
    "train.columns"
   ]
  },
  {
   "cell_type": "code",
   "execution_count": 17,
   "id": "31140fef",
   "metadata": {},
   "outputs": [
    {
     "data": {
      "text/plain": [
       "(50000, 24)"
      ]
     },
     "execution_count": 17,
     "metadata": {},
     "output_type": "execute_result"
    }
   ],
   "source": [
    "test.shape"
   ]
  },
  {
   "cell_type": "code",
   "execution_count": 18,
   "id": "2b04d331",
   "metadata": {},
   "outputs": [
    {
     "data": {
      "text/plain": [
       "(100000, 32)"
      ]
     },
     "execution_count": 18,
     "metadata": {},
     "output_type": "execute_result"
    }
   ],
   "source": [
    "train.shape"
   ]
  },
  {
   "cell_type": "code",
   "execution_count": null,
   "id": "d7d6f52e",
   "metadata": {},
   "outputs": [],
   "source": []
  }
 ],
 "metadata": {
  "kernelspec": {
   "display_name": "Python 3 (ipykernel)",
   "language": "python",
   "name": "python3"
  },
  "language_info": {
   "codemirror_mode": {
    "name": "ipython",
    "version": 3
   },
   "file_extension": ".py",
   "mimetype": "text/x-python",
   "name": "python",
   "nbconvert_exporter": "python",
   "pygments_lexer": "ipython3",
   "version": "3.10.9"
  }
 },
 "nbformat": 4,
 "nbformat_minor": 5
}
